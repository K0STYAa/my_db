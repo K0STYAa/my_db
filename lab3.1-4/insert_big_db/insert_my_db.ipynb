{
  "nbformat": 4,
  "nbformat_minor": 0,
  "metadata": {
    "colab": {
      "name": "insert_my_db.ipynb",
      "provenance": [],
      "collapsed_sections": []
    },
    "kernelspec": {
      "name": "python3",
      "display_name": "Python 3"
    }
  },
  "cells": [
    {
      "cell_type": "code",
      "metadata": {
        "id": "_wm3vzSZZwaB"
      },
      "source": [
        "from mimesis import Datetime, Text, Person\n",
        "from random import randint\n",
        "import fileinput"
      ],
      "execution_count": 323,
      "outputs": []
    },
    {
      "cell_type": "code",
      "metadata": {
        "id": "KwDsPuUGakS1"
      },
      "source": [
        "# data quantity\n",
        "\n",
        "product_size = 10_000\n",
        "material_size = 10_000\n",
        "equipment_size = 10_000"
      ],
      "execution_count": 324,
      "outputs": []
    },
    {
      "cell_type": "code",
      "metadata": {
        "id": "WmWx0Aa3iALQ"
      },
      "source": [
        "# open files\n",
        "\n",
        "product_file = open('product.sql', 'w')\n",
        "material_file = open('material.sql', 'w')\n",
        "equipment_file = open('equpment.sql', 'w')\n",
        "product_material_file = open('product_material.sql', 'w')\n",
        "product_equipment_file = open('product_equipment.sql', 'w')\n",
        "alternative_file = open('alternative.sql', 'w')"
      ],
      "execution_count": 325,
      "outputs": []
    },
    {
      "cell_type": "code",
      "metadata": {
        "id": "wE9sEmQwh--B"
      },
      "source": [
        "d = Datetime()\n",
        "t = Text('ru')\n",
        "\n",
        "product_file.write(\"INSERT INTO product_specification (product_name, production_duration, quantity, description)\\nVALUES\\n\")\n",
        "for i in range(product_size):\n",
        "    product_file.write(\"('product_{0}', '{1}', {2}, '{3}')\".format((str(i+1)).zfill(8), d.formatted_time(fmt=\"%H hours %M minutes %S seconds\"), randint(10000,400000), t.text(1)))\n",
        "    if i == product_size-1:\n",
        "        product_file.write(\";\\n\")\n",
        "    else:\n",
        "        product_file.write(\",\\n\")"
      ],
      "execution_count": 326,
      "outputs": []
    },
    {
      "cell_type": "code",
      "metadata": {
        "id": "iAJtlqLPixAY"
      },
      "source": [
        "units = ['kg','pounds','ounce','barrels','pints','gallons','liters','cubic meters']\n",
        "\n",
        "material_file.write(\"INSERT INTO material (material_name, unit_price, unit)\\nVALUES\\n\")\n",
        "for i in range(material_size):\n",
        "    material_file.write(\"('material_{0}', {1}, '{2}')\".format((str(i+1)).zfill(8), randint(900,10000), units[randint(0,7)]))\n",
        "    if i == material_size-1:\n",
        "        material_file.write(\";\\n\")\n",
        "    else:\n",
        "        material_file.write(\",\\n\")"
      ],
      "execution_count": 327,
      "outputs": []
    },
    {
      "cell_type": "code",
      "metadata": {
        "id": "7wg7yF17nc_I"
      },
      "source": [
        "d = Datetime()\n",
        "\n",
        "equipment_file.write(\"INSERT INTO equipment (equipment_name, inventory_number, manufacturer, exlotation_begining, explotation_period)\\nVALUES\\n\")\n",
        "for i in range(equipment_size):\n",
        "    equipment_file.write(\"('equipment_{0}', {1}, 'manufacturer_{2}', '{3}', '{4} years')\".format((str(i+1)).zfill(8), str(randint(1,10000000)).zfill(8), str(randint(1,999)).zfill(3), d.formatted_date(fmt=\"%Y-%m-%d\"), randint(5,50)))\n",
        "    if (i == equipment_size-1):\n",
        "        equipment_file.write(\";\\n\")\n",
        "    else:\n",
        "        equipment_file.write(\",\\n\")"
      ],
      "execution_count": 328,
      "outputs": []
    },
    {
      "cell_type": "code",
      "metadata": {
        "id": "_RCPAM1os98y"
      },
      "source": [
        "def gen_cost():\n",
        "    res = ''\n",
        "    for i in range(4):\n",
        "        is_breake = randint(0,4)\n",
        "        if is_breake:\n",
        "            res += str(randint(2000, 4000))\n",
        "        else:\n",
        "            res += str(randint(10000,30000))\n",
        "        if i < 3:\n",
        "            res += ', '\n",
        "    return res\n",
        "\n",
        "product_equipment_file.write(\"INSERT INTO product_equipment_relation VALUES\\n\")\n",
        "for i in range(product_size):\n",
        "    count = randint(1,5)\n",
        "    for j in range(count):\n",
        "        product_equipment_file.write(\"({0}, {1}, '{2}{3}{4}')\".format(i+1, randint(1, equipment_size), '{', gen_cost(), '}'))\n",
        "        if (i == product_size-1 and j == count-1):\n",
        "            product_equipment_file.write(\";\\n\")\n",
        "        else:\n",
        "            product_equipment_file.write(\",\\n\")"
      ],
      "execution_count": 329,
      "outputs": []
    },
    {
      "cell_type": "code",
      "metadata": {
        "id": "RSyXxehvs-Mx"
      },
      "source": [
        "p = Person('ru')\n",
        "\n",
        "product_material_file.write(\"INSERT INTO product_material_relation VALUES\\n\")\n",
        "for i in range(product_size):\n",
        "    count = randint(1,5)\n",
        "    for j in range(count):\n",
        "        product_material_file.write('({0}, {1}, {2}\"manufacturer\":\"{3}\", \"unit_quantity\":{4}{5})'.format(i+1, randint(1, material_size), \"'{\", p.full_name(), randint(1,1000)/100, \"}'\"))\n",
        "        if (i == product_size-1 and j == count-1):\n",
        "            product_material_file.write(\";\\n\")\n",
        "        else:\n",
        "            product_material_file.write(\",\\n\")"
      ],
      "execution_count": 330,
      "outputs": []
    },
    {
      "cell_type": "code",
      "metadata": {
        "id": "RthXDTEDwgLc"
      },
      "source": [
        "alternative_file.write(\"INSERT INTO alternative VALUES\\n\")\n",
        "count1 = material_size//10\n",
        "for i in range(count1):\n",
        "    first_alternative = i*10+randint(1,10)\n",
        "    count2 = randint(1,3)\n",
        "    for j in range(count2):\n",
        "        alternative_file.write(\"({0}, {1})\".format(first_alternative, randint(1, material_size)))\n",
        "        if (i == count1-1 and j == count2-1):\n",
        "            alternative_file.write(\";\\n\")\n",
        "        else:\n",
        "            alternative_file.write(\",\\n\")"
      ],
      "execution_count": 331,
      "outputs": []
    },
    {
      "cell_type": "code",
      "metadata": {
        "id": "ijQfEVsMn5b9"
      },
      "source": [
        "# close files\n",
        "\n",
        "product_file.close()\n",
        "material_file.close()\n",
        "equipment_file.close()\n",
        "product_material_file.close()\n",
        "product_equipment_file.close()\n",
        "alternative_file.close()"
      ],
      "execution_count": 332,
      "outputs": []
    }
  ]
}